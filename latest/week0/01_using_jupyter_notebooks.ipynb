{
 "cells": [
  {
   "cell_type": "markdown",
   "metadata": {},
   "source": [
    "# Week 0 : Introduction to Jupyter Notebooks\n",
    "\n",
    "Jupyter Notebooks are a great way to interact with data and code. They are a powerful tool for data analysis and visualization. In this notebook, we'll show you how to get started with Jupyter Notebooks.\n",
    "\n",
    "We'll do so in 3 steps\n",
    "\n",
    "1. First we'll run our first cell and execute some code\n",
    "2. Then we'll explain what the idea of a kernel is and why we need to use it to work with jupyter notebooks\n",
    "3. Then we'll show you a few examples of how Jupyter Notebooks allow you to work with data in a more conducive way\n",
    "\n",
    "Let's get started!\n",
    "\n",
    "## Introduction\n",
    "\n",
    "We recommend using the [Jupyter Extension](https://marketplace.visualstudio.com/items?itemName=ms-toolsai.jupyter) that ships with VS Code to run these notebooks. \n",
    "\n",
    "You can run a cell in Jupyter Notebook in VS Code by using the `ctrl+enter` key combination. If this doesn't work, there should be a play button on the top right of the cell you're focused on. Give it a try by running the cell below!\n",
    "\n",
    "This should trigger a pop-up in VSCode/Cursor that asks you to select the kernel you want to use. \n",
    "\n",
    "![](./assets/kernel.png)\n",
    "\n",
    "Make sure that the path to the kernel is correct and maps to the virtual environment that you previously used."
   ]
  },
  {
   "cell_type": "code",
   "execution_count": 10,
   "metadata": {},
   "outputs": [
    {
     "name": "stdout",
     "output_type": "stream",
     "text": [
      "Success!\n"
     ]
    }
   ],
   "source": [
    "print(\"Success!\")"
   ]
  },
  {
   "cell_type": "markdown",
   "metadata": {},
   "source": [
    "You should see a tick once you've executed the cell and a message that says \"Success!\" This indicates that you've successfully executed the cell and selected a valid kernel."
   ]
  },
  {
   "cell_type": "markdown",
   "metadata": {},
   "source": [
    "## Kernel\n",
    "\n",
    "> **Important** : Since we can execute code cell by cell, it's often useful to break up our code into multiple cells so that we can iterate and test different aspects of our code without having to run the entire snippet. This makes it easy to work with more complex logic and data.\n",
    "\n",
    "A Jupyter Notebook works by connecting to a \"kernel\" - which is essentially a Python interpreter running in the background. When you run a cell, the code is sent to this kernel for execution, and the results are sent back to display in your notebook. \n",
    "\n",
    "Think of the kernel as the \"engine\" that powers your notebook - it maintains the state of your variables and executes your code, while the notebook itself is just the interface you use to write code and see results. \n",
    "\n",
    "This is why you need to select a kernel when you first open a notebook - you're choosing which Python environment will run your code. If you're confused about which kernel you're using, just run the cell below and it will tell you.\n"
   ]
  },
  {
   "cell_type": "code",
   "execution_count": 5,
   "metadata": {},
   "outputs": [
    {
     "name": "stdout",
     "output_type": "stream",
     "text": [
      "/Users/ivanleo/Documents/coding/ttt/systematically-improving-rag/cohort_2/.venv/bin/python\n"
     ]
    }
   ],
   "source": [
    "!python -c \"import sys; print(sys.executable)\""
   ]
  },
  {
   "cell_type": "markdown",
   "metadata": {},
   "source": [
    "By being able to execute code in a notebook, we can do some pretty cool things. For example, we can use the `!` command to execute shell commands."
   ]
  },
  {
   "cell_type": "code",
   "execution_count": 6,
   "metadata": {},
   "outputs": [
    {
     "name": "stdout",
     "output_type": "stream",
     "text": [
      "1. Using Jupyter Notebooks.ipynb  \u001b[34massets\u001b[m\u001b[m/\n"
     ]
    }
   ],
   "source": [
    "!ls"
   ]
  },
  {
   "cell_type": "markdown",
   "metadata": {},
   "source": [
    "Being able to execute code line by line and visualize data directly in notebooks is incredibly powerful for data science and analysis. It allows you to:\n",
    "- Experiment and debug code interactively\n",
    "- See results immediately after each operation\n",
    "- Create rich visualizations alongside your code\n",
    "\n",
    "\n",
    "\n",
    "This interactive workflow makes it much easier to explore data, test hypotheses, and refine your analysis compared to traditional scripts which will execute it in a single pass. \n",
    "\n",
    "It also makes it easy to share your work with others, as the notebook can contain both the code, results and markdown formatted descriptions that walkthrough and explain your analysis.\n"
   ]
  },
  {
   "cell_type": "markdown",
   "metadata": {},
   "source": [
    "## Visualising Data\n",
    "\n",
    "One of the key benefits of using Jupyter Notebooks is that we can visualise data directly in the notebook. We'll show two examples here.\n",
    "\n",
    "1. Pandas : Pandas is a powerful data manipulation library that allows you to load data from a variety of sources and visualise it in a variety of ways. By being able to visualise and see the results of our data manipulation, we can iterate and refine our analysis much more quickly.\n",
    "\n",
    "2. Matplotlib : Matplotlib is a powerful data visualization library that allows you to create a variety of plots and charts. By being able to visualize our data, we can get a better understanding of the relationships and trends in our data.\n",
    "\n",
    "We'll use a few simple examples to show how we can use these libraries to visualise data in a notebook."
   ]
  },
  {
   "cell_type": "markdown",
   "metadata": {},
   "source": [
    "### Pandas\n",
    "\n",
    "Pandas provides a lot of useful methods to help work with datasets. In this section, we'll show a few different examples of how we can use these methods to manipulate and visualise our data.\n",
    "\n",
    "Let's first create a dataset to work with and then see it neatly visualised as a pandas dataframe\n"
   ]
  },
  {
   "cell_type": "code",
   "execution_count": 7,
   "metadata": {},
   "outputs": [
    {
     "data": {
      "text/html": [
       "<div>\n",
       "<style scoped>\n",
       "    .dataframe tbody tr th:only-of-type {\n",
       "        vertical-align: middle;\n",
       "    }\n",
       "\n",
       "    .dataframe tbody tr th {\n",
       "        vertical-align: top;\n",
       "    }\n",
       "\n",
       "    .dataframe thead th {\n",
       "        text-align: right;\n",
       "    }\n",
       "</style>\n",
       "<table border=\"1\" class=\"dataframe\">\n",
       "  <thead>\n",
       "    <tr style=\"text-align: right;\">\n",
       "      <th></th>\n",
       "      <th>Month</th>\n",
       "      <th>Sales</th>\n",
       "    </tr>\n",
       "  </thead>\n",
       "  <tbody>\n",
       "    <tr>\n",
       "      <th>0</th>\n",
       "      <td>Jan</td>\n",
       "      <td>150</td>\n",
       "    </tr>\n",
       "    <tr>\n",
       "      <th>1</th>\n",
       "      <td>Feb</td>\n",
       "      <td>200</td>\n",
       "    </tr>\n",
       "    <tr>\n",
       "      <th>2</th>\n",
       "      <td>Mar</td>\n",
       "      <td>250</td>\n",
       "    </tr>\n",
       "    <tr>\n",
       "      <th>3</th>\n",
       "      <td>Apr</td>\n",
       "      <td>300</td>\n",
       "    </tr>\n",
       "    <tr>\n",
       "      <th>4</th>\n",
       "      <td>May</td>\n",
       "      <td>350</td>\n",
       "    </tr>\n",
       "  </tbody>\n",
       "</table>\n",
       "</div>"
      ],
      "text/plain": [
       "  Month  Sales\n",
       "0   Jan    150\n",
       "1   Feb    200\n",
       "2   Mar    250\n",
       "3   Apr    300\n",
       "4   May    350"
      ]
     },
     "execution_count": 7,
     "metadata": {},
     "output_type": "execute_result"
    }
   ],
   "source": [
    "import pandas as pd\n",
    "import matplotlib.pyplot as plt\n",
    "\n",
    "# Create a sample dataset\n",
    "data = {\n",
    "    \"Month\": [\"Jan\", \"Feb\", \"Mar\", \"Apr\", \"May\"],\n",
    "    \"Sales\": [150, 200, 250, 300, 350],\n",
    "}\n",
    "df = pd.DataFrame(data)\n",
    "df"
   ]
  },
  {
   "cell_type": "markdown",
   "metadata": {},
   "source": [
    "This also works for simple data manipulation, allowing us to filter and sort through datasets that we're working with much faster than we could with a traditional script."
   ]
  },
  {
   "cell_type": "code",
   "execution_count": 8,
   "metadata": {},
   "outputs": [
    {
     "data": {
      "text/html": [
       "<div>\n",
       "<style scoped>\n",
       "    .dataframe tbody tr th:only-of-type {\n",
       "        vertical-align: middle;\n",
       "    }\n",
       "\n",
       "    .dataframe tbody tr th {\n",
       "        vertical-align: top;\n",
       "    }\n",
       "\n",
       "    .dataframe thead th {\n",
       "        text-align: right;\n",
       "    }\n",
       "</style>\n",
       "<table border=\"1\" class=\"dataframe\">\n",
       "  <thead>\n",
       "    <tr style=\"text-align: right;\">\n",
       "      <th></th>\n",
       "      <th>Month</th>\n",
       "      <th>Sales</th>\n",
       "    </tr>\n",
       "  </thead>\n",
       "  <tbody>\n",
       "    <tr>\n",
       "      <th>2</th>\n",
       "      <td>Mar</td>\n",
       "      <td>250</td>\n",
       "    </tr>\n",
       "    <tr>\n",
       "      <th>3</th>\n",
       "      <td>Apr</td>\n",
       "      <td>300</td>\n",
       "    </tr>\n",
       "    <tr>\n",
       "      <th>4</th>\n",
       "      <td>May</td>\n",
       "      <td>350</td>\n",
       "    </tr>\n",
       "  </tbody>\n",
       "</table>\n",
       "</div>"
      ],
      "text/plain": [
       "  Month  Sales\n",
       "2   Mar    250\n",
       "3   Apr    300\n",
       "4   May    350"
      ]
     },
     "execution_count": 8,
     "metadata": {},
     "output_type": "execute_result"
    }
   ],
   "source": [
    "df[df[\"Sales\"] > 200]"
   ]
  },
  {
   "cell_type": "markdown",
   "metadata": {},
   "source": [
    "### Matplotlib\n",
    "\n",
    "Let's now see how we can use matplotlib to visualise our data. We'll do so by visualising a simple line plot of our sales data."
   ]
  },
  {
   "cell_type": "code",
   "execution_count": 9,
   "metadata": {},
   "outputs": [
    {
     "data": {
      "image/png": "[encoded data removed]",
      "text/plain": [
       "<Figure size 1000x600 with 1 Axes>"
      ]
     },
     "metadata": {},
     "output_type": "display_data"
    }
   ],
   "source": [
    "# Create a line plot\n",
    "plt.figure(figsize=(10, 6))\n",
    "plt.plot(df[\"Month\"], df[\"Sales\"], marker=\"o\")\n",
    "plt.title(\"Monthly Sales\")\n",
    "plt.xlabel(\"Month\")\n",
    "plt.ylabel(\"Sales\")\n",
    "plt.grid(True)\n",
    "plt.show()"
   ]
  },
  {
   "cell_type": "markdown",
   "metadata": {},
   "source": [
    "It's pretty easy here to then experiment and visualise different aspects of our plotting code as we iterate on our data itself."
   ]
  },
  {
   "cell_type": "markdown",
   "metadata": {},
   "source": [
    "## Troubleshooting\n",
    "\n",
    "Here is a short section about common issues and how to fix them.\n",
    "\n",
    "### Kernel Timing Out\n",
    "\n",
    "If you see a specific cell that takes too long to execute, you can try to kill the kernel by clicking on the kernel menu and selecting \"Interrupt\" or \"Restart & Clear Output\". \n",
    "\n",
    "I often have duplicate imports so that I can quickly iterate on different aspects of my code. If you find yourself in this situation, you can try to restart the kernel by clicking on the kernel menu and selecting \"Restart Kernel\".\n",
    "\n",
    "### How do I tell if my Cell is running?\n",
    "\n",
    "Look for the [ ] symbol next to the cell\n",
    "\n",
    "[ ] means waiting to execute\n",
    "[*] means currently running\n",
    "[1] (or any number) means completed execution\n",
    "\n",
    "\n",
    "Check if any cells are stuck running (shown by [*]), you can kill the kernel by either then interrupting the kernel or restarting the kernel itself.\n",
    "\n",
    "The autoreload extension is super helpful when developing Python modules. Here's what it does:\n",
    "pythonCopy# Load the extension\n",
    "%load_ext autoreload\n",
    "\n",
    "### Set autoreload mode\n",
    "\n",
    "When working with a Jupyter Notebook, it's often useful to be able to reload modules whenever we want to execute code. This is especially helpful if we're referencing and working with code that's stored in a separate file to ensure our latest changes are reflected.\n",
    "\n",
    "This code below is a snippet that you can run to enable this behaviour."
   ]
  },
  {
   "cell_type": "code",
   "execution_count": null,
   "metadata": {},
   "outputs": [],
   "source": [
    "%load_ext autoreload\n",
    "%autoreload 2"
   ]
  },
  {
   "cell_type": "markdown",
   "metadata": {},
   "source": [
    "Different autoreload modes:\n",
    "\n",
    "- `%autoreload 0` - Disable automatic reloading\n",
    "- `%autoreload 1` - Reload modules imported using `%aimport`\n",
    "- `%autoreload 2` - Reload all modules every time before executing code"
   ]
  },
  {
   "cell_type": "markdown",
   "metadata": {},
   "source": [
    "### Jupyter Magic Commands\n",
    "\n",
    "Jupyter also ships with a few useful commands that can be used to help you troubleshoot your code. An example is the `%%time` command which will time the execution of the cell.\n",
    "\n",
    "You can find more examples of useful magic commands [here](https://ipython.readthedocs.io/en/stable/interactive/magics.html)."
   ]
  },
  {
   "cell_type": "code",
   "execution_count": 14,
   "metadata": {},
   "outputs": [
    {
     "name": "stdout",
     "output_type": "stream",
     "text": [
      "Hello, world!\n",
      "CPU times: user 133 µs, sys: 27 µs, total: 160 µs\n",
      "Wall time: 140 µs\n"
     ]
    }
   ],
   "source": [
    "%%time\n",
    "print(\"Hello, world!\")"
   ]
  },
  {
   "cell_type": "markdown",
   "metadata": {},
   "source": [
    "## Conclusion\n",
    "\n",
    "In this short notebook, we've shown how we can use Jupyter Notebooks to interactively explore and visualise our data. \n",
    "\n",
    "We've also shown how we can use the kernel to execute code and manipulate data in a notebook.\n",
    "\n",
    "We hope you've enjoyed this short introduction to Jupyter Notebooks and we look forward to seeing you in the next notebook!"
   ]
  }
 ],
 "metadata": {
  "kernelspec": {
   "display_name": ".venv",
   "language": "python",
   "name": "python3"
  },
  "language_info": {
   "codemirror_mode": {
    "name": "ipython",
    "version": 3
   },
   "file_extension": ".py",
   "mimetype": "text/x-python",
   "name": "python",
   "nbconvert_exporter": "python",
   "pygments_lexer": "ipython3",
   "version": "3.9.6"
  }
 },
 "nbformat": 4,
 "nbformat_minor": 2
}
